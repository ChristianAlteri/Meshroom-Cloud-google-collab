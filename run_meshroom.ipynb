{
 "cells": [
  {
   "attachments": {},
   "cell_type": "markdown",
   "metadata": {},
   "source": [
    "#Setup\n",
    "Add paths for input and output. Your images should be in their own folder. Or just check use sample data, and the input and ouput will be covered for you. For ease of use, I recommend mounting your Google Drive (see section below), then setting your input and output locations to somewhere inside your drive.\n"
   ]
  },
  {
   "cell_type": "code",
   "execution_count": null,
   "metadata": {},
   "outputs": [],
   "source": [
    "image_folder_path = \"\" #@param {type:\"string\"}\n",
    "output_path = \"\" #@param {type:\"string\"}\n",
    "use_sample_data = False #@param {type:\"boolean\"}"
   ]
  },
  {
   "attachments": {},
   "cell_type": "markdown",
   "metadata": {},
   "source": [
    "Download Meshroom and sample data(if needed)."
   ]
  },
  {
   "cell_type": "code",
   "execution_count": null,
   "metadata": {},
   "outputs": [],
   "source": [
    "if use_sample_data:\n",
    "  !git clone https://github.com/alicevision/dataset_buddha\n",
    "  image_folder_path = './dataset_buddha/buddha'\n",
    "  output_path = './buddha_out'\n",
    "\n",
    "!wget -N https://github.com/alicevision/meshroom/releases/download/v2019.1.0/Meshroom-2019.1.0-linux.tar.gz\n",
    "!mkdir meshroom\n",
    "!tar xzf Meshroom-2019.1.0-linux.tar.gz -C ./meshroom"
   ]
  },
  {
   "attachments": {},
   "cell_type": "markdown",
   "metadata": {},
   "source": [
    "#Google Drive\n",
    "Connect to Google Drive, so that you can import and export files from there.\n"
   ]
  },
  {
   "cell_type": "code",
   "execution_count": null,
   "metadata": {},
   "outputs": [],
   "source": [
    "from google.colab import drive\n",
    "drive.mount('/content/drive')"
   ]
  },
  {
   "attachments": {},
   "cell_type": "markdown",
   "metadata": {},
   "source": [
    "#Meshing\n",
    "Use the form in setup to specify an input and output path, or check sample data to try it out."
   ]
  },
  {
   "cell_type": "code",
   "execution_count": null,
   "metadata": {},
   "outputs": [],
   "source": [
    "!mkdir '{output_path}'\n",
    "!./meshroom/Meshroom-2019.1.0/meshroom_photogrammetry --input '{image_folder_path}' --output '{output_path}'\n"
   ]
  }
 ],
 "metadata": {
  "language_info": {
   "name": "python"
  },
  "orig_nbformat": 4
 },
 "nbformat": 4,
 "nbformat_minor": 2
}
